{
 "cells": [
  {
   "cell_type": "code",
   "execution_count": 4,
   "metadata": {},
   "outputs": [],
   "source": [
    "from werkzeug.security import generate_password_hash, check_password_hash"
   ]
  },
  {
   "cell_type": "code",
   "execution_count": 7,
   "metadata": {},
   "outputs": [
    {
     "data": {
      "text/plain": [
       "'pbkdf2:sha256:260000$3Z8bpGEyXMeVqdbF$426c4bf83d8675f0d5990c026bf6a69966ae50163c2d2f2e15f29d8d27f40cb2'"
      ]
     },
     "execution_count": 7,
     "metadata": {},
     "output_type": "execute_result"
    }
   ],
   "source": [
    "hash = \"sha256$LbUE7S3pkypJXIdB$0a8a677fe64c36299f6e6180b7a148a53094918262bb483e94d0db260592188e\" #generate_password_hash('foobar')\n",
    "check_password_hash(hash, 'vq')\n",
    "generate_password_hash(\"jjjj\")\n",
    "\n"
   ]
  },
  {
   "cell_type": "code",
   "execution_count": 2,
   "metadata": {},
   "outputs": [
    {
     "name": "stdout",
     "output_type": "stream",
     "text": [
      "sqlite:////home/valigatotus/Documents/VUB/INDI/BA3/Database-Driven-Website/app/database/db2.sqlite\n"
     ]
    }
   ],
   "source": [
    "import os\n",
    "print(\"sqlite:///\" + os.path.abspath(\"./app/database/db2.sqlite\"))"
   ]
  },
  {
   "cell_type": "code",
   "execution_count": 26,
   "metadata": {},
   "outputs": [],
   "source": [
    "import pandas as pd\n",
    "with open(\"app/database/rows/Course2.csv\", 'r') as file:\n",
    "    df = pd.read_csv(file)"
   ]
  },
  {
   "cell_type": "code",
   "execution_count": 27,
   "metadata": {},
   "outputs": [
    {
     "data": {
      "text/html": [
       "<div>\n",
       "<style scoped>\n",
       "    .dataframe tbody tr th:only-of-type {\n",
       "        vertical-align: middle;\n",
       "    }\n",
       "\n",
       "    .dataframe tbody tr th {\n",
       "        vertical-align: top;\n",
       "    }\n",
       "\n",
       "    .dataframe thead th {\n",
       "        text-align: right;\n",
       "    }\n",
       "</style>\n",
       "<table border=\"1\" class=\"dataframe\">\n",
       "  <thead>\n",
       "    <tr style=\"text-align: right;\">\n",
       "      <th></th>\n",
       "      <th>id</th>\n",
       "      <th>name</th>\n",
       "      <th>semester</th>\n",
       "    </tr>\n",
       "  </thead>\n",
       "  <tbody>\n",
       "    <tr>\n",
       "      <th>0</th>\n",
       "      <td>1</td>\n",
       "      <td>Database Management</td>\n",
       "      <td>1</td>\n",
       "    </tr>\n",
       "    <tr>\n",
       "      <th>1</th>\n",
       "      <td>2</td>\n",
       "      <td>Networks</td>\n",
       "      <td>1</td>\n",
       "    </tr>\n",
       "    <tr>\n",
       "      <th>2</th>\n",
       "      <td>3</td>\n",
       "      <td>Practicum ELO-ICT</td>\n",
       "      <td>1</td>\n",
       "    </tr>\n",
       "    <tr>\n",
       "      <th>3</th>\n",
       "      <td>4</td>\n",
       "      <td>Business Management</td>\n",
       "      <td>1</td>\n",
       "    </tr>\n",
       "    <tr>\n",
       "      <th>4</th>\n",
       "      <td>5</td>\n",
       "      <td>Smart-ICT systems</td>\n",
       "      <td>2</td>\n",
       "    </tr>\n",
       "  </tbody>\n",
       "</table>\n",
       "</div>"
      ],
      "text/plain": [
       "   id                 name   semester\n",
       "0   1  Database Management          1\n",
       "1   2             Networks          1\n",
       "2   3    Practicum ELO-ICT          1\n",
       "3   4  Business Management          1\n",
       "4   5    Smart-ICT systems          2"
      ]
     },
     "execution_count": 27,
     "metadata": {},
     "output_type": "execute_result"
    }
   ],
   "source": [
    "df"
   ]
  },
  {
   "cell_type": "code",
   "execution_count": 47,
   "metadata": {},
   "outputs": [],
   "source": [
    "import sqlalchemy\n",
    "eng = sqlalchemy.create_engine(\"sqlite:///\" + os.path.abspath(\"./app/database/db3.sqlite\"))\n"
   ]
  },
  {
   "cell_type": "code",
   "execution_count": 50,
   "metadata": {},
   "outputs": [],
   "source": [
    "def FillTable(engine, path:str, table:str, sep=','):\n",
    "    with open(path, 'r') as file:\n",
    "        rows = [r.split(sep) for r in [r for r in file.read().split('\\n')]] \n",
    "        # q = \"INSERT INTO \" + table + \" VALUES(\" + (len(rows[0])-1)*\"?,\" + \" ?);\"\n",
    "        # for row in rows:\n",
    "        #     engine.execute()\n",
    "        queries = []\n",
    "        for row in rows:\n",
    "            engine.execute(\"INSERT INTO \" + table + \" VALUES(\" + \",\".join(row) + \");\")\n"
   ]
  },
  {
   "cell_type": "code",
   "execution_count": 54,
   "metadata": {},
   "outputs": [],
   "source": [
    "from app.database import database as DB\n",
    "\n",
    "mydb = DB.db(\"./app/database/db3.sqlite\")\n",
    "mydb.Init(\"./app/database/init_db2.txt\")\n"
   ]
  },
  {
   "cell_type": "code",
   "execution_count": 8,
   "metadata": {},
   "outputs": [],
   "source": [
    "lines = []\n"
   ]
  },
  {
   "cell_type": "code",
   "execution_count": null,
   "metadata": {},
   "outputs": [],
   "source": [
    "def fill_table(path:str, db):\n",
    "    lines = []\n",
    "    with open(path, 'r') as file:\n",
    "        lines = [r.split(',') for r in [r for r in file.read().split('\\n')]]\n",
    "    (keys, records) = (lines[0], lines[1:-1])\n",
    "    return [dict(zip(keys, records)) for record in records]\n",
    "    "
   ]
  },
  {
   "cell_type": "code",
   "execution_count": 18,
   "metadata": {},
   "outputs": [
    {
     "data": {
      "text/plain": [
       "[{'id': '1',\n",
       "  'fname': 'Valentin',\n",
       "  'lname': 'Quevy',\n",
       "  'email': 'vq@gmail.com',\n",
       "  'password_hash': 'sha256$LbUE7S3pkypJXIdB$0a8a677fe64c36299f6e6180b7a148a53094918262bb483e94d0db260592188e'},\n",
       " {'id': '2',\n",
       "  'fname': 'Kurt',\n",
       "  'lname': 'Somers',\n",
       "  'email': 'ks@gmail.com',\n",
       "  'password_hash': 'sha256$g2pWmahTU8evT8Pi$559dad3bca0b54d476a3df6bd7b97c0239f644ac8f585944ee00f2a480cc2c45'},\n",
       " {'id': '3',\n",
       "  'fname': 'Sarrah',\n",
       "  'lname': 'Fihri',\n",
       "  'email': 'sf@gmail.com',\n",
       "  'password_hash': 'sha256$bADnytEJI9GBjiYA$46781459e0a6942e2b3d0fc9a80745dade55a8af1da0e9aa94ebb702de695ea4'},\n",
       " {'id': '4',\n",
       "  'fname': 'Tom',\n",
       "  'lname': 'Godden',\n",
       "  'email': 'tg@gmail.com',\n",
       "  'password_hash': 'sha256$Grfi0Tx8qladCdiM$f9966d6af6cf3a8678b2054b4f37e0ffa569d57610309ce1abea8c63a291552d'},\n",
       " {'id': '5',\n",
       "  'fname': 'Jarne',\n",
       "  'lname': 'Plas',\n",
       "  'email': 'jp@gmail.com',\n",
       "  'password_hash': 'sha256$jUq0OBVN8LvqEvsd$07a6c1d72ae53ad29f286ad5f07c3ef6fb459f0c2ada1eb7c989c17a642600c7'},\n",
       " {'id': '6',\n",
       "  'fname': 'Tim',\n",
       "  'lname': 'Wouters',\n",
       "  'email': 'tw@gmail.com',\n",
       "  'password_hash': 'sha256$z4wU2Pp7ZPKRlk2a$33f7315ac7866190aca4ba1505a3e1f961f6775b081839fd0377456b77ce36dd'},\n",
       " {'id': '7',\n",
       "  'fname': 'Fred',\n",
       "  'lname': 'Coppens',\n",
       "  'email': 'fc@gmail.com',\n",
       "  'password_hash': 'sha256$CWxSJV34pN11pL7i$700cf38800a1c9baf1d9cc519b396a0520379733b95ddffc5602e2258aecb2ca'},\n",
       " {'id': '8',\n",
       "  'fname': 'Peter',\n",
       "  'lname': 'De Winne',\n",
       "  'email': 'pdw@gmail.com',\n",
       "  'password_hash': 'sha256$Qq5GRPioDuW1xgjv$46aaea53b254e00bf795e2d37314627df995ce6f94c8a589c09c9ee879ffebef'},\n",
       " {'id': '9',\n",
       "  'fname': 'Ayoub',\n",
       "  'lname': 'Ayad',\n",
       "  'email': 'aa@gmail.com',\n",
       "  'password_hash': 'sha256$0MVALKuXpzvirgOX$0d5f1ef7dde60863e31d8b02054c01c438c18dece76d11a60798ad3b90e474bb'},\n",
       " {'id': '10',\n",
       "  'fname': 'Karel',\n",
       "  'lname': 'Elegast',\n",
       "  'email': 'ke@gmail.com',\n",
       "  'password_hash': 'sha256$2mOcMm5C9WSW2zPi$5864d2434c60dd51aa76659fd13b321d3113871d4ddab4d0ad04c410b421dd81'},\n",
       " {'id': '11',\n",
       "  'fname': 'Plop',\n",
       "  'lname': 'Perdeplop',\n",
       "  'email': 'pp@gmail.com',\n",
       "  'password_hash': 'sha256$wgXxFieM47msWgGX$1f54257a1a48cf82abe2ce2668d1c38e83fdc6e99a338a158340fc4c02caa8cd'},\n",
       " {'id': '12',\n",
       "  'fname': 'Michiel',\n",
       "  'lname': 'Windrickx',\n",
       "  'email': 'mw@gmail.com',\n",
       "  'password_hash': 'sha256$pJp2hrfDeS7bumhH$28d509a222c98022889f40c5287afa4e6738c997b0e76c6a72be7b6235b16ff2'}]"
      ]
     },
     "execution_count": 18,
     "metadata": {},
     "output_type": "execute_result"
    }
   ],
   "source": [
    "\n",
    "\n",
    "\n"
   ]
  }
 ],
 "metadata": {
  "interpreter": {
   "hash": "31f2aee4e71d21fbe5cf8b01ff0e069b9275f58929596ceb00d14d90e3e16cd6"
  },
  "kernelspec": {
   "display_name": "Python 3.8.10 64-bit",
   "language": "python",
   "name": "python3"
  },
  "language_info": {
   "codemirror_mode": {
    "name": "ipython",
    "version": 3
   },
   "file_extension": ".py",
   "mimetype": "text/x-python",
   "name": "python",
   "nbconvert_exporter": "python",
   "pygments_lexer": "ipython3",
   "version": "3.8.10"
  },
  "orig_nbformat": 4
 },
 "nbformat": 4,
 "nbformat_minor": 2
}
