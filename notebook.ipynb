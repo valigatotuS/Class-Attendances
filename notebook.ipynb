{
 "cells": [
  {
   "cell_type": "code",
   "execution_count": 4,
   "metadata": {},
   "outputs": [],
   "source": [
    "from werkzeug.security import generate_password_hash, check_password_hash"
   ]
  },
  {
   "cell_type": "code",
   "execution_count": 7,
   "metadata": {},
   "outputs": [
    {
     "data": {
      "text/plain": [
       "'pbkdf2:sha256:260000$3Z8bpGEyXMeVqdbF$426c4bf83d8675f0d5990c026bf6a69966ae50163c2d2f2e15f29d8d27f40cb2'"
      ]
     },
     "execution_count": 7,
     "metadata": {},
     "output_type": "execute_result"
    }
   ],
   "source": [
    "hash = \"sha256$LbUE7S3pkypJXIdB$0a8a677fe64c36299f6e6180b7a148a53094918262bb483e94d0db260592188e\" #generate_password_hash('foobar')\n",
    "check_password_hash(hash, 'vq')\n",
    "generate_password_hash(\"jjjj\")\n",
    "\n"
   ]
  },
  {
   "cell_type": "code",
   "execution_count": 2,
   "metadata": {},
   "outputs": [
    {
     "name": "stdout",
     "output_type": "stream",
     "text": [
      "sqlite:////home/valigatotus/Documents/VUB/INDI/BA3/Database-Driven-Website/app/database/db2.sqlite\n"
     ]
    }
   ],
   "source": [
    "import os\n",
    "print(\"sqlite:///\" + os.path.abspath(\"./app/database/db2.sqlite\"))"
   ]
  },
  {
   "cell_type": "code",
   "execution_count": 26,
   "metadata": {},
   "outputs": [],
   "source": [
    "import pandas as pd\n",
    "with open(\"app/database/rows/Course2.csv\", 'r') as file:\n",
    "    df = pd.read_csv(file)"
   ]
  },
  {
   "cell_type": "code",
   "execution_count": 27,
   "metadata": {},
   "outputs": [
    {
     "data": {
      "text/html": [
       "<div>\n",
       "<style scoped>\n",
       "    .dataframe tbody tr th:only-of-type {\n",
       "        vertical-align: middle;\n",
       "    }\n",
       "\n",
       "    .dataframe tbody tr th {\n",
       "        vertical-align: top;\n",
       "    }\n",
       "\n",
       "    .dataframe thead th {\n",
       "        text-align: right;\n",
       "    }\n",
       "</style>\n",
       "<table border=\"1\" class=\"dataframe\">\n",
       "  <thead>\n",
       "    <tr style=\"text-align: right;\">\n",
       "      <th></th>\n",
       "      <th>id</th>\n",
       "      <th>name</th>\n",
       "      <th>semester</th>\n",
       "    </tr>\n",
       "  </thead>\n",
       "  <tbody>\n",
       "    <tr>\n",
       "      <th>0</th>\n",
       "      <td>1</td>\n",
       "      <td>Database Management</td>\n",
       "      <td>1</td>\n",
       "    </tr>\n",
       "    <tr>\n",
       "      <th>1</th>\n",
       "      <td>2</td>\n",
       "      <td>Networks</td>\n",
       "      <td>1</td>\n",
       "    </tr>\n",
       "    <tr>\n",
       "      <th>2</th>\n",
       "      <td>3</td>\n",
       "      <td>Practicum ELO-ICT</td>\n",
       "      <td>1</td>\n",
       "    </tr>\n",
       "    <tr>\n",
       "      <th>3</th>\n",
       "      <td>4</td>\n",
       "      <td>Business Management</td>\n",
       "      <td>1</td>\n",
       "    </tr>\n",
       "    <tr>\n",
       "      <th>4</th>\n",
       "      <td>5</td>\n",
       "      <td>Smart-ICT systems</td>\n",
       "      <td>2</td>\n",
       "    </tr>\n",
       "  </tbody>\n",
       "</table>\n",
       "</div>"
      ],
      "text/plain": [
       "   id                 name   semester\n",
       "0   1  Database Management          1\n",
       "1   2             Networks          1\n",
       "2   3    Practicum ELO-ICT          1\n",
       "3   4  Business Management          1\n",
       "4   5    Smart-ICT systems          2"
      ]
     },
     "execution_count": 27,
     "metadata": {},
     "output_type": "execute_result"
    }
   ],
   "source": [
    "df"
   ]
  },
  {
   "cell_type": "code",
   "execution_count": 47,
   "metadata": {},
   "outputs": [],
   "source": [
    "import sqlalchemy\n",
    "eng = sqlalchemy.create_engine(\"sqlite:///\" + os.path.abspath(\"./app/database/db3.sqlite\"))\n"
   ]
  },
  {
   "cell_type": "code",
   "execution_count": 50,
   "metadata": {},
   "outputs": [],
   "source": [
    "def FillTable(engine, path:str, table:str, sep=','):\n",
    "    with open(path, 'r') as file:\n",
    "        rows = [r.split(sep) for r in [r for r in file.read().split('\\n')]] \n",
    "        # q = \"INSERT INTO \" + table + \" VALUES(\" + (len(rows[0])-1)*\"?,\" + \" ?);\"\n",
    "        # for row in rows:\n",
    "        #     engine.execute()\n",
    "        queries = []\n",
    "        for row in rows:\n",
    "            engine.execute(\"INSERT INTO \" + table + \" VALUES(\" + \",\".join(row) + \");\")\n"
   ]
  },
  {
   "cell_type": "code",
   "execution_count": 54,
   "metadata": {},
   "outputs": [],
   "source": [
    "from app.database import database as DB\n",
    "\n",
    "mydb = DB.db(\"./app/database/db3.sqlite\")\n",
    "mydb.Init(\"./app/database/init_db2.txt\")\n"
   ]
  },
  {
   "cell_type": "code",
   "execution_count": 8,
   "metadata": {},
   "outputs": [],
   "source": [
    "lines = []\n"
   ]
  },
  {
   "cell_type": "code",
   "execution_count": 23,
   "metadata": {},
   "outputs": [],
   "source": [
    "\n",
    "    "
   ]
  },
  {
   "cell_type": "code",
   "execution_count": 25,
   "metadata": {},
   "outputs": [
    {
     "data": {
      "text/plain": [
       "[{'id': '1',\n",
       "  'fname': 'Valentin',\n",
       "  'lname': 'Quevy',\n",
       "  'email': 'vq@gmail.com',\n",
       "  'password_hash': 'sha256$LbUE7S3pkypJXIdB$0a8a677fe64c36299f6e6180b7a148a53094918262bb483e94d0db260592188e'},\n",
       " {'id': '2',\n",
       "  'fname': 'Kurt',\n",
       "  'lname': 'Somers',\n",
       "  'email': 'ks@gmail.com',\n",
       "  'password_hash': 'sha256$g2pWmahTU8evT8Pi$559dad3bca0b54d476a3df6bd7b97c0239f644ac8f585944ee00f2a480cc2c45'},\n",
       " {'id': '3',\n",
       "  'fname': 'Sarrah',\n",
       "  'lname': 'Fihri',\n",
       "  'email': 'sf@gmail.com',\n",
       "  'password_hash': 'sha256$bADnytEJI9GBjiYA$46781459e0a6942e2b3d0fc9a80745dade55a8af1da0e9aa94ebb702de695ea4'},\n",
       " {'id': '4',\n",
       "  'fname': 'Tom',\n",
       "  'lname': 'Godden',\n",
       "  'email': 'tg@gmail.com',\n",
       "  'password_hash': 'sha256$Grfi0Tx8qladCdiM$f9966d6af6cf3a8678b2054b4f37e0ffa569d57610309ce1abea8c63a291552d'},\n",
       " {'id': '5',\n",
       "  'fname': 'Jarne',\n",
       "  'lname': 'Plas',\n",
       "  'email': 'jp@gmail.com',\n",
       "  'password_hash': 'sha256$jUq0OBVN8LvqEvsd$07a6c1d72ae53ad29f286ad5f07c3ef6fb459f0c2ada1eb7c989c17a642600c7'}]"
      ]
     },
     "execution_count": 25,
     "metadata": {},
     "output_type": "execute_result"
    }
   ],
   "source": [
    "\n",
    "fill_table(\"app/database/rows/User2.csv\", 1)[0:5]\n",
    "\n"
   ]
  },
  {
   "cell_type": "code",
   "execution_count": 3,
   "metadata": {},
   "outputs": [
    {
     "ename": "KeyError",
     "evalue": "'app'",
     "output_type": "error",
     "traceback": [
      "\u001b[0;31m---------------------------------------------------------------------------\u001b[0m",
      "\u001b[0;31mKeyError\u001b[0m                                  Traceback (most recent call last)",
      "\u001b[1;32m/home/valigatotus/Documents/github/Database-Driven-Website/notebook.ipynb Cell 12'\u001b[0m in \u001b[0;36m<module>\u001b[0;34m\u001b[0m\n\u001b[1;32m      <a href='vscode-notebook-cell:/home/valigatotus/Documents/github/Database-Driven-Website/notebook.ipynb#ch0000011?line=0'>1</a>\u001b[0m \u001b[39mfrom\u001b[39;00m \u001b[39msqlalchemy\u001b[39;00m\u001b[39m.\u001b[39;00m\u001b[39mschema\u001b[39;00m \u001b[39mimport\u001b[39;00m CreateTable\n\u001b[0;32m----> <a href='vscode-notebook-cell:/home/valigatotus/Documents/github/Database-Driven-Website/notebook.ipynb#ch0000011?line=1'>2</a>\u001b[0m \u001b[39mfrom\u001b[39;00m \u001b[39mapp\u001b[39;00m\u001b[39m.\u001b[39;00m\u001b[39mdatabase\u001b[39;00m\u001b[39m.\u001b[39;00m\u001b[39mmodels\u001b[39;00m \u001b[39mimport\u001b[39;00m Class\n",
      "File \u001b[0;32m<frozen importlib._bootstrap>:991\u001b[0m, in \u001b[0;36m_find_and_load\u001b[0;34m(name, import_)\u001b[0m\n",
      "File \u001b[0;32m<frozen importlib._bootstrap>:971\u001b[0m, in \u001b[0;36m_find_and_load_unlocked\u001b[0;34m(name, import_)\u001b[0m\n",
      "File \u001b[0;32m<frozen importlib._bootstrap>:914\u001b[0m, in \u001b[0;36m_find_spec\u001b[0;34m(name, path, target)\u001b[0m\n",
      "File \u001b[0;32m<frozen importlib._bootstrap_external>:1407\u001b[0m, in \u001b[0;36mfind_spec\u001b[0;34m(cls, fullname, path, target)\u001b[0m\n",
      "File \u001b[0;32m<frozen importlib._bootstrap_external>:1373\u001b[0m, in \u001b[0;36m_get_spec\u001b[0;34m(cls, fullname, path, target)\u001b[0m\n",
      "File \u001b[0;32m<frozen importlib._bootstrap_external>:1239\u001b[0m, in \u001b[0;36m__iter__\u001b[0;34m(self)\u001b[0m\n",
      "File \u001b[0;32m<frozen importlib._bootstrap_external>:1227\u001b[0m, in \u001b[0;36m_recalculate\u001b[0;34m(self)\u001b[0m\n",
      "File \u001b[0;32m<frozen importlib._bootstrap_external>:1223\u001b[0m, in \u001b[0;36m_get_parent_path\u001b[0;34m(self)\u001b[0m\n",
      "\u001b[0;31mKeyError\u001b[0m: 'app'"
     ]
    }
   ],
   "source": [
    "from sqlalchemy.schema import CreateTable\n",
    "from app.database.models import Class\n",
    "#CreateTable(Class).compile()"
   ]
  }
 ],
 "metadata": {
  "interpreter": {
   "hash": "31f2aee4e71d21fbe5cf8b01ff0e069b9275f58929596ceb00d14d90e3e16cd6"
  },
  "kernelspec": {
   "display_name": "Python 3.8.10 64-bit",
   "language": "python",
   "name": "python3"
  },
  "language_info": {
   "codemirror_mode": {
    "name": "ipython",
    "version": 3
   },
   "file_extension": ".py",
   "mimetype": "text/x-python",
   "name": "python",
   "nbconvert_exporter": "python",
   "pygments_lexer": "ipython3",
   "version": "3.8.10"
  },
  "orig_nbformat": 4
 },
 "nbformat": 4,
 "nbformat_minor": 2
}
